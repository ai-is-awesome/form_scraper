{
 "cells": [
  {
   "cell_type": "code",
   "execution_count": 79,
   "metadata": {},
   "outputs": [],
   "source": [
    "dl_num = 'DL-0420110149646'\n",
    "dob = '09/02/1976'"
   ]
  },
  {
   "cell_type": "code",
   "execution_count": 67,
   "metadata": {},
   "outputs": [],
   "source": [
    "parivahan_url = 'https://parivahan.gov.in/rcdlstatus/?pur_cd=101'\n",
    "html = requests.get(parivahan_url).content"
   ]
  },
  {
   "cell_type": "code",
   "execution_count": 138,
   "metadata": {},
   "outputs": [],
   "source": [
    "soup = BeautifulSoup(html, 'lxml')"
   ]
  },
  {
   "cell_type": "code",
   "execution_count": 13,
   "metadata": {},
   "outputs": [
    {
     "name": "stdout",
     "output_type": "stream",
     "text": [
      "Enter url: https://parivahan.gov.in/rcdlstatus/?pur_cd=101\n",
      "================================================== form #1 ==================================================\n",
      "{'action': '/rcdlstatus/vahan/rcdlhome.xhtml;jsessionid=4fae6e26ca591b35ac335f7a19c7e937',\n",
      " 'inputs': [{'name': 'form_rcdl', 'type': 'hidden', 'value': 'form_rcdl'},\n",
      "            {'name': 'form_rcdl:tf_dlNO', 'type': 'text', 'value': ''},\n",
      "            {'name': 'form_rcdl:tf_dob_input', 'type': 'text', 'value': ''},\n",
      "            {'name': 'form_rcdl:j_idt34:CaptchaID',\n",
      "             'type': 'text',\n",
      "             'value': ''},\n",
      "            {'name': 'javax.faces.ViewState',\n",
      "             'type': 'hidden',\n",
      "             'value': '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'}],\n",
      " 'method': 'post'}\n"
     ]
    }
   ],
   "source": [
    "from bs4 import BeautifulSoup\n",
    "from requests_html import HTMLSession\n",
    "from pprint import pprint\n",
    "\n",
    "# initialize an HTTP session\n",
    "session = HTMLSession()\n",
    "\n",
    "\n",
    "def get_all_forms(url):\n",
    "    \"\"\"Returns all form tags found on a web page's `url` \"\"\"\n",
    "    # GET request\n",
    "    res = session.get(url)\n",
    "    # for javascript driven website\n",
    "    #res.html.render()\n",
    "    soup = BeautifulSoup(res.html.html, \"html.parser\")\n",
    "    return soup.find_all(\"form\")\n",
    "\n",
    "\n",
    "def get_form_details(form):\n",
    "    \"\"\"Returns the HTML details of a form,\n",
    "    including action, method and list of form controls (inputs, etc)\"\"\"\n",
    "    details = {}\n",
    "    # get the form action (requested URL)\n",
    "    action = form.attrs.get(\"action\").lower()\n",
    "    # get the form method (POST, GET, DELETE, etc)\n",
    "    # if not specified, GET is the default in HTML\n",
    "    method = form.attrs.get(\"method\", \"get\").lower()\n",
    "    # get all form inputs\n",
    "    inputs = []\n",
    "    for input_tag in form.find_all(\"input\"):\n",
    "        # get type of input form control\n",
    "        input_type = input_tag.attrs.get(\"type\", \"text\")\n",
    "        # get name attribute\n",
    "        input_name = input_tag.attrs.get(\"name\")\n",
    "        # get the default value of that input tag\n",
    "        input_value =input_tag.attrs.get(\"value\", \"\")\n",
    "        # add everything to that list\n",
    "        inputs.append({\"type\": input_type, \"name\": input_name, \"value\": input_value})\n",
    "    # put everything to the resulting dictionary\n",
    "    details[\"action\"] = action\n",
    "    details[\"method\"] = method\n",
    "    details[\"inputs\"] = inputs\n",
    "    return details\n",
    "\n",
    "\n",
    "if __name__ == \"__main__\":\n",
    "    url = input('Enter url: ')\n",
    "    \n",
    "    # get all form tags\n",
    "    forms = get_all_forms(url)\n",
    "    # iteratte over forms\n",
    "    for i, form in enumerate(forms, start=1):\n",
    "        form_details = get_form_details(form)\n",
    "        print(\"=\"*50, f\"form #{i}\", \"=\"*50)\n",
    "        pprint(form_details)"
   ]
  },
  {
   "cell_type": "code",
   "execution_count": 14,
   "metadata": {},
   "outputs": [
    {
     "name": "stdout",
     "output_type": "stream",
     "text": [
      "Enter url here: https://parivahan.gov.in/rcdlstatus/?pur_cd=101\n",
      "{'action': '/rcdlstatus/vahan/rcdlhome.xhtml',\n",
      " 'inputs': [{'name': 'form_rcdl', 'type': 'hidden', 'value': 'form_rcdl'},\n",
      "            {'name': 'form_rcdl:tf_dlNO', 'type': 'text', 'value': ''},\n",
      "            {'name': 'form_rcdl:tf_dob_input', 'type': 'text', 'value': ''},\n",
      "            {'name': 'form_rcdl:j_idt34:CaptchaID',\n",
      "             'type': 'text',\n",
      "             'value': ''},\n",
      "            {'name': 'javax.faces.ViewState',\n",
      "             'type': 'hidden',\n",
      "             'value': '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'}],\n",
      " 'method': 'post'}\n",
      "Enter the value of the field 'form_rcdl:tf_dlNO' (type: text): num\n",
      "Enter the value of the field 'form_rcdl:tf_dob_input' (type: text): num\n",
      "Enter the value of the field 'form_rcdl:j_idt34:CaptchaID' (type: text): num\n"
     ]
    },
    {
     "data": {
      "text/plain": [
       "True"
      ]
     },
     "execution_count": 14,
     "metadata": {},
     "output_type": "execute_result"
    }
   ],
   "source": [
    "from bs4 import BeautifulSoup\n",
    "from requests_html import HTMLSession\n",
    "from pprint import pprint\n",
    "from urllib.parse import urljoin\n",
    "import webbrowser\n",
    "\n",
    "\n",
    "url = input(\"Enter url here: \")\n",
    "# get the first form\n",
    "first_form = get_all_forms(url)[0]\n",
    "# extract all form details\n",
    "form_details = get_form_details(first_form)\n",
    "pprint(form_details)\n",
    "# the data body we want to submit\n",
    "data = {}\n",
    "for input_tag in form_details[\"inputs\"]:\n",
    "    if input_tag[\"type\"] == \"hidden\":\n",
    "        # if it's hidden, use the default value\n",
    "        data[input_tag[\"name\"]] = input_tag[\"value\"]\n",
    "    elif input_tag[\"type\"] != \"submit\":\n",
    "        # all others except submit, prompt the user to set it\n",
    "        value = input(f\"Enter the value of the field '{input_tag['name']}' (type: {input_tag['type']}): \")\n",
    "        data[input_tag[\"name\"]] = value\n",
    "\n",
    "# join the url with the action (form request URL)\n",
    "url = urljoin(url, form_details[\"action\"])\n",
    "\n",
    "if form_details[\"method\"] == \"post\":\n",
    "    res = session.post(url, data=data)\n",
    "elif form_details[\"method\"] == \"get\":\n",
    "    res = session.get(url, params=data)\n",
    "\n",
    "# the below code is only for replacing relative URLs to absolute ones\n",
    "soup = BeautifulSoup(res.content, \"html.parser\")\n",
    "for link in soup.find_all(\"link\"):\n",
    "    try:\n",
    "        link.attrs[\"href\"] = urljoin(url, link.attrs[\"href\"])\n",
    "    except:\n",
    "        pass\n",
    "for script in soup.find_all(\"script\"):\n",
    "    try:\n",
    "        script.attrs[\"src\"] = urljoin(url, script.attrs[\"src\"])\n",
    "    except:\n",
    "        pass\n",
    "for img in soup.find_all(\"img\"):\n",
    "    try:\n",
    "        img.attrs[\"src\"] = urljoin(url, img.attrs[\"src\"])\n",
    "    except:\n",
    "        pass\n",
    "for a in soup.find_all(\"a\"):\n",
    "    try:\n",
    "        a.attrs[\"href\"] = urljoin(url, a.attrs[\"href\"])\n",
    "    except:\n",
    "        pass\n",
    "\n",
    "# write the page content to a file\n",
    "open(\"page.html\", \"w\").write(str(soup))\n",
    "# open the page on the default browser\n",
    "webbrowser.open(\"page.html\")"
   ]
  }
 ],
 "metadata": {
  "kernelspec": {
   "display_name": "Python 3",
   "language": "python",
   "name": "python3"
  },
  "language_info": {
   "codemirror_mode": {
    "name": "ipython",
    "version": 3
   },
   "file_extension": ".py",
   "mimetype": "text/x-python",
   "name": "python",
   "nbconvert_exporter": "python",
   "pygments_lexer": "ipython3",
   "version": "3.7.3"
  }
 },
 "nbformat": 4,
 "nbformat_minor": 2
}
