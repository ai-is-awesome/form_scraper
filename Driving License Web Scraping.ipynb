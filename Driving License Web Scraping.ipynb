{
 "cells": [
  {
   "cell_type": "code",
   "execution_count": 79,
   "metadata": {},
   "outputs": [],
   "source": [
    "dl_num = 'DL-0420110149646'\n",
    "dob = '09/02/1976'"
   ]
  },
  {
   "cell_type": "code",
   "execution_count": 67,
   "metadata": {},
   "outputs": [],
   "source": [
    "parivahan_url = 'https://parivahan.gov.in/rcdlstatus/?pur_cd=101'\n",
    "html = requests.get(parivahan_url).content"
   ]
  },
  {
   "cell_type": "code",
   "execution_count": 138,
   "metadata": {},
   "outputs": [],
   "source": [
    "soup = BeautifulSoup(html, 'lxml')"
   ]
  },
  {
   "cell_type": "code",
   "execution_count": 33,
   "metadata": {},
   "outputs": [
    {
     "name": "stdout",
     "output_type": "stream",
     "text": [
      "================================================== form #1 ==================================================\n",
      "{'action': '//www.wikipedia.org/search-redirect.php',\n",
      " 'inputs': [{'name': 'family', 'type': 'hidden', 'value': 'wikipedia'},\n",
      "            {'name': 'language', 'type': 'hidden', 'value': 'en'},\n",
      "            {'name': 'search', 'type': 'search', 'value': ''},\n",
      "            {'name': 'go', 'type': 'hidden', 'value': 'Go'}],\n",
      " 'method': 'get'}\n"
     ]
    }
   ],
   "source": [
    "from bs4 import BeautifulSoup\n",
    "from requests_html import HTMLSession\n",
    "from pprint import pprint\n",
    "\n",
    "# initialize an HTTP session\n",
    "session = HTMLSession()\n",
    "\n",
    "\n",
    "def get_all_forms(url):\n",
    "    \"\"\"Returns all form tags found on a web page's `url` \"\"\"\n",
    "    # GET request\n",
    "    res = session.get(url)\n",
    "    # for javascript driven website\n",
    "    res.html.render()\n",
    "    soup = BeautifulSoup(res.html.html, \"html.parser\")\n",
    "    return soup.find_all(\"form\")\n",
    "\n",
    "\n",
    "def get_form_details(form):\n",
    "    \"\"\"Returns the HTML details of a form,\n",
    "    including action, method and list of form controls (inputs, etc)\"\"\"\n",
    "    details = {}\n",
    "    # get the form action (requested URL)\n",
    "    action = form.attrs.get(\"action\").lower()\n",
    "    # get the form method (POST, GET, DELETE, etc)\n",
    "    # if not specified, GET is the default in HTML\n",
    "    method = form.attrs.get(\"method\", \"get\").lower()\n",
    "    # get all form inputs\n",
    "    inputs = []\n",
    "    for input_tag in form.find_all(\"input\"):\n",
    "        # get type of input form control\n",
    "        input_type = input_tag.attrs.get(\"type\", \"text\")\n",
    "        # get name attribute\n",
    "        input_name = input_tag.attrs.get(\"name\")\n",
    "        # get the default value of that input tag\n",
    "        input_value =input_tag.attrs.get(\"value\", \"\")\n",
    "        # add everything to that list\n",
    "        inputs.append({\"type\": input_type, \"name\": input_name, \"value\": input_value})\n",
    "    # put everything to the resulting dictionary\n",
    "    details[\"action\"] = action\n",
    "    details[\"method\"] = method\n",
    "    details[\"inputs\"] = inputs\n",
    "    return details\n",
    "\n",
    "\n",
    "if __name__ == \"__main__\":\n",
    "    url = \"https://wikipedia.org\"\n",
    "    # get all form tags\n",
    "    forms = get_all_forms(url)\n",
    "    # iteratte over forms\n",
    "    for i, form in enumerate(forms, start=1):\n",
    "        form_details = get_form_details(form)\n",
    "        print(\"=\"*50, f\"form #{i}\", \"=\"*50)\n",
    "        pprint(form_details)"
   ]
  },
  {
   "cell_type": "code",
   "execution_count": 3,
   "metadata": {},
   "outputs": [
    {
     "name": "stdout",
     "output_type": "stream",
     "text": [
      "Enter url here: ffe\n"
     ]
    },
    {
     "ename": "NameError",
     "evalue": "name 'get_all_forms' is not defined",
     "output_type": "error",
     "traceback": [
      "\u001b[1;31m---------------------------------------------------------------------------\u001b[0m",
      "\u001b[1;31mNameError\u001b[0m                                 Traceback (most recent call last)",
      "\u001b[1;32m<ipython-input-3-e09976acb8c4>\u001b[0m in \u001b[0;36m<module>\u001b[1;34m\u001b[0m\n\u001b[0;32m      8\u001b[0m \u001b[0murl\u001b[0m \u001b[1;33m=\u001b[0m \u001b[0minput\u001b[0m\u001b[1;33m(\u001b[0m\u001b[1;34m\"Enter url here: \"\u001b[0m\u001b[1;33m)\u001b[0m\u001b[1;33m\u001b[0m\u001b[1;33m\u001b[0m\u001b[0m\n\u001b[0;32m      9\u001b[0m \u001b[1;31m# get the first form\u001b[0m\u001b[1;33m\u001b[0m\u001b[1;33m\u001b[0m\u001b[1;33m\u001b[0m\u001b[0m\n\u001b[1;32m---> 10\u001b[1;33m \u001b[0mfirst_form\u001b[0m \u001b[1;33m=\u001b[0m \u001b[0mget_all_forms\u001b[0m\u001b[1;33m(\u001b[0m\u001b[0murl\u001b[0m\u001b[1;33m)\u001b[0m\u001b[1;33m[\u001b[0m\u001b[1;36m0\u001b[0m\u001b[1;33m]\u001b[0m\u001b[1;33m\u001b[0m\u001b[1;33m\u001b[0m\u001b[0m\n\u001b[0m\u001b[0;32m     11\u001b[0m \u001b[1;31m# extract all form details\u001b[0m\u001b[1;33m\u001b[0m\u001b[1;33m\u001b[0m\u001b[1;33m\u001b[0m\u001b[0m\n\u001b[0;32m     12\u001b[0m \u001b[0mform_details\u001b[0m \u001b[1;33m=\u001b[0m \u001b[0mget_form_details\u001b[0m\u001b[1;33m(\u001b[0m\u001b[0mfirst_form\u001b[0m\u001b[1;33m)\u001b[0m\u001b[1;33m\u001b[0m\u001b[1;33m\u001b[0m\u001b[0m\n",
      "\u001b[1;31mNameError\u001b[0m: name 'get_all_forms' is not defined"
     ]
    }
   ],
   "source": [
    "from bs4 import BeautifulSoup\n",
    "from requests_html import HTMLSession\n",
    "from pprint import pprint\n",
    "from urllib.parse import urljoin\n",
    "import webbrowser\n",
    "\n",
    "\n",
    "url = input(\"Enter url here: \")\n",
    "# get the first form\n",
    "first_form = get_all_forms(url)[0]\n",
    "# extract all form details\n",
    "form_details = get_form_details(first_form)\n",
    "pprint(form_details)\n",
    "# the data body we want to submit\n",
    "data = {}\n",
    "for input_tag in form_details[\"inputs\"]:\n",
    "    if input_tag[\"type\"] == \"hidden\":\n",
    "        # if it's hidden, use the default value\n",
    "        data[input_tag[\"name\"]] = input_tag[\"value\"]\n",
    "    elif input_tag[\"type\"] != \"submit\":\n",
    "        # all others except submit, prompt the user to set it\n",
    "        value = input(f\"Enter the value of the field '{input_tag['name']}' (type: {input_tag['type']}): \")\n",
    "        data[input_tag[\"name\"]] = value\n",
    "\n",
    "# join the url with the action (form request URL)\n",
    "url = urljoin(url, form_details[\"action\"])\n",
    "\n",
    "if form_details[\"method\"] == \"post\":\n",
    "    res = session.post(url, data=data)\n",
    "elif form_details[\"method\"] == \"get\":\n",
    "    res = session.get(url, params=data)\n",
    "\n",
    "# the below code is only for replacing relative URLs to absolute ones\n",
    "soup = BeautifulSoup(res.content, \"html.parser\")\n",
    "for link in soup.find_all(\"link\"):\n",
    "    try:\n",
    "        link.attrs[\"href\"] = urljoin(url, link.attrs[\"href\"])\n",
    "    except:\n",
    "        pass\n",
    "for script in soup.find_all(\"script\"):\n",
    "    try:\n",
    "        script.attrs[\"src\"] = urljoin(url, script.attrs[\"src\"])\n",
    "    except:\n",
    "        pass\n",
    "for img in soup.find_all(\"img\"):\n",
    "    try:\n",
    "        img.attrs[\"src\"] = urljoin(url, img.attrs[\"src\"])\n",
    "    except:\n",
    "        pass\n",
    "for a in soup.find_all(\"a\"):\n",
    "    try:\n",
    "        a.attrs[\"href\"] = urljoin(url, a.attrs[\"href\"])\n",
    "    except:\n",
    "        pass\n",
    "\n",
    "# write the page content to a file\n",
    "open(\"page.html\", \"w\").write(str(soup))\n",
    "# open the page on the default browser\n",
    "webbrowser.open(\"page.html\")"
   ]
  }
 ],
 "metadata": {
  "kernelspec": {
   "display_name": "Python 3",
   "language": "python",
   "name": "python3"
  },
  "language_info": {
   "codemirror_mode": {
    "name": "ipython",
    "version": 3
   },
   "file_extension": ".py",
   "mimetype": "text/x-python",
   "name": "python",
   "nbconvert_exporter": "python",
   "pygments_lexer": "ipython3",
   "version": "3.7.3"
  }
 },
 "nbformat": 4,
 "nbformat_minor": 2
}
